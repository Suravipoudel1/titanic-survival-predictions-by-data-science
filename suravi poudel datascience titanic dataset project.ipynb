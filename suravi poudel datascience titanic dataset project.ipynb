{
 "cells": [
  {
   "cell_type": "code",
   "execution_count": 1,
   "id": "da899b10-10a2-42a8-a920-6fb0b984c9cd",
   "metadata": {},
   "outputs": [
    {
     "name": "stdout",
     "output_type": "stream",
     "text": [
      "c:\\Users\\Dell\\Desktop\\streamlit site\n"
     ]
    }
   ],
   "source": [
    "import os\n",
    "print(os.getcwd())\n",
    "# Importing the os module to interact with the operating system\n",
    "# Printing the current working directory\n"
   ]
  },
  {
   "cell_type": "code",
   "execution_count": 2,
   "id": "ebac3e10-a2e8-40fc-9931-3ea84e4e2536",
   "metadata": {},
   "outputs": [
    {
     "data": {
      "text/html": [
       "<div>\n",
       "<style scoped>\n",
       "    .dataframe tbody tr th:only-of-type {\n",
       "        vertical-align: middle;\n",
       "    }\n",
       "\n",
       "    .dataframe tbody tr th {\n",
       "        vertical-align: top;\n",
       "    }\n",
       "\n",
       "    .dataframe thead th {\n",
       "        text-align: right;\n",
       "    }\n",
       "</style>\n",
       "<table border=\"1\" class=\"dataframe\">\n",
       "  <thead>\n",
       "    <tr style=\"text-align: right;\">\n",
       "      <th></th>\n",
       "      <th>PassengerId</th>\n",
       "      <th>Survived</th>\n",
       "      <th>Pclass</th>\n",
       "      <th>Name</th>\n",
       "      <th>Sex</th>\n",
       "      <th>Age</th>\n",
       "      <th>SibSp</th>\n",
       "      <th>Parch</th>\n",
       "      <th>Ticket</th>\n",
       "      <th>Fare</th>\n",
       "      <th>Cabin</th>\n",
       "      <th>Embarked</th>\n",
       "    </tr>\n",
       "  </thead>\n",
       "  <tbody>\n",
       "    <tr>\n",
       "      <th>0</th>\n",
       "      <td>1</td>\n",
       "      <td>0</td>\n",
       "      <td>3</td>\n",
       "      <td>Braund, Mr. Owen Harris</td>\n",
       "      <td>male</td>\n",
       "      <td>22.0</td>\n",
       "      <td>1</td>\n",
       "      <td>0</td>\n",
       "      <td>A/5 21171</td>\n",
       "      <td>7.2500</td>\n",
       "      <td>NaN</td>\n",
       "      <td>S</td>\n",
       "    </tr>\n",
       "    <tr>\n",
       "      <th>1</th>\n",
       "      <td>2</td>\n",
       "      <td>1</td>\n",
       "      <td>1</td>\n",
       "      <td>Cumings, Mrs. John Bradley (Florence Briggs Th...</td>\n",
       "      <td>female</td>\n",
       "      <td>38.0</td>\n",
       "      <td>1</td>\n",
       "      <td>0</td>\n",
       "      <td>PC 17599</td>\n",
       "      <td>71.2833</td>\n",
       "      <td>C85</td>\n",
       "      <td>C</td>\n",
       "    </tr>\n",
       "    <tr>\n",
       "      <th>2</th>\n",
       "      <td>3</td>\n",
       "      <td>1</td>\n",
       "      <td>3</td>\n",
       "      <td>Heikkinen, Miss. Laina</td>\n",
       "      <td>female</td>\n",
       "      <td>26.0</td>\n",
       "      <td>0</td>\n",
       "      <td>0</td>\n",
       "      <td>STON/O2. 3101282</td>\n",
       "      <td>7.9250</td>\n",
       "      <td>NaN</td>\n",
       "      <td>S</td>\n",
       "    </tr>\n",
       "    <tr>\n",
       "      <th>3</th>\n",
       "      <td>4</td>\n",
       "      <td>1</td>\n",
       "      <td>1</td>\n",
       "      <td>Futrelle, Mrs. Jacques Heath (Lily May Peel)</td>\n",
       "      <td>female</td>\n",
       "      <td>35.0</td>\n",
       "      <td>1</td>\n",
       "      <td>0</td>\n",
       "      <td>113803</td>\n",
       "      <td>53.1000</td>\n",
       "      <td>C123</td>\n",
       "      <td>S</td>\n",
       "    </tr>\n",
       "    <tr>\n",
       "      <th>4</th>\n",
       "      <td>5</td>\n",
       "      <td>0</td>\n",
       "      <td>3</td>\n",
       "      <td>Allen, Mr. William Henry</td>\n",
       "      <td>male</td>\n",
       "      <td>35.0</td>\n",
       "      <td>0</td>\n",
       "      <td>0</td>\n",
       "      <td>373450</td>\n",
       "      <td>8.0500</td>\n",
       "      <td>NaN</td>\n",
       "      <td>S</td>\n",
       "    </tr>\n",
       "  </tbody>\n",
       "</table>\n",
       "</div>"
      ],
      "text/plain": [
       "   PassengerId  Survived  Pclass  \\\n",
       "0            1         0       3   \n",
       "1            2         1       1   \n",
       "2            3         1       3   \n",
       "3            4         1       1   \n",
       "4            5         0       3   \n",
       "\n",
       "                                                Name     Sex   Age  SibSp  \\\n",
       "0                            Braund, Mr. Owen Harris    male  22.0      1   \n",
       "1  Cumings, Mrs. John Bradley (Florence Briggs Th...  female  38.0      1   \n",
       "2                             Heikkinen, Miss. Laina  female  26.0      0   \n",
       "3       Futrelle, Mrs. Jacques Heath (Lily May Peel)  female  35.0      1   \n",
       "4                           Allen, Mr. William Henry    male  35.0      0   \n",
       "\n",
       "   Parch            Ticket     Fare Cabin Embarked  \n",
       "0      0         A/5 21171   7.2500   NaN        S  \n",
       "1      0          PC 17599  71.2833   C85        C  \n",
       "2      0  STON/O2. 3101282   7.9250   NaN        S  \n",
       "3      0            113803  53.1000  C123        S  \n",
       "4      0            373450   8.0500   NaN        S  "
      ]
     },
     "execution_count": 2,
     "metadata": {},
     "output_type": "execute_result"
    }
   ],
   "source": [
    "import pandas as pd\n",
    "df = pd.read_csv('titanic.csv')\n",
    "df.head()\n",
    "# Importing the pandas library for data manipulation and analysis\n",
    "# Reading the Titanic dataset from a CSV file into a DataFrame\n",
    "# Displaying the first five rows of the DataFrame\n"
   ]
  },
  {
   "cell_type": "code",
   "execution_count": 4,
   "id": "86d633ad-5075-445f-9cdc-0d3312d74f01",
   "metadata": {},
   "outputs": [
    {
     "name": "stdout",
     "output_type": "stream",
     "text": [
      "<class 'pandas.core.frame.DataFrame'>\n",
      "RangeIndex: 891 entries, 0 to 890\n",
      "Data columns (total 12 columns):\n",
      " #   Column       Non-Null Count  Dtype  \n",
      "---  ------       --------------  -----  \n",
      " 0   PassengerId  891 non-null    int64  \n",
      " 1   Survived     891 non-null    int64  \n",
      " 2   Pclass       891 non-null    int64  \n",
      " 3   Name         891 non-null    object \n",
      " 4   Sex          891 non-null    object \n",
      " 5   Age          714 non-null    float64\n",
      " 6   SibSp        891 non-null    int64  \n",
      " 7   Parch        891 non-null    int64  \n",
      " 8   Ticket       891 non-null    object \n",
      " 9   Fare         891 non-null    float64\n",
      " 10  Cabin        204 non-null    object \n",
      " 11  Embarked     889 non-null    object \n",
      "dtypes: float64(2), int64(5), object(5)\n",
      "memory usage: 83.7+ KB\n"
     ]
    }
   ],
   "source": [
    "df.info()\n",
    "# Displaying concise summary of the DataFrame \n"
   ]
  },
  {
   "cell_type": "code",
   "execution_count": 5,
   "id": "af2c2154-55f9-4bf3-a097-abba6d4b1065",
   "metadata": {},
   "outputs": [
    {
     "data": {
      "text/html": [
       "<div>\n",
       "<style scoped>\n",
       "    .dataframe tbody tr th:only-of-type {\n",
       "        vertical-align: middle;\n",
       "    }\n",
       "\n",
       "    .dataframe tbody tr th {\n",
       "        vertical-align: top;\n",
       "    }\n",
       "\n",
       "    .dataframe thead th {\n",
       "        text-align: right;\n",
       "    }\n",
       "</style>\n",
       "<table border=\"1\" class=\"dataframe\">\n",
       "  <thead>\n",
       "    <tr style=\"text-align: right;\">\n",
       "      <th></th>\n",
       "      <th>PassengerId</th>\n",
       "      <th>Survived</th>\n",
       "      <th>Pclass</th>\n",
       "      <th>Age</th>\n",
       "      <th>SibSp</th>\n",
       "      <th>Parch</th>\n",
       "      <th>Fare</th>\n",
       "    </tr>\n",
       "  </thead>\n",
       "  <tbody>\n",
       "    <tr>\n",
       "      <th>count</th>\n",
       "      <td>891.000000</td>\n",
       "      <td>891.000000</td>\n",
       "      <td>891.000000</td>\n",
       "      <td>714.000000</td>\n",
       "      <td>891.000000</td>\n",
       "      <td>891.000000</td>\n",
       "      <td>891.000000</td>\n",
       "    </tr>\n",
       "    <tr>\n",
       "      <th>mean</th>\n",
       "      <td>446.000000</td>\n",
       "      <td>0.383838</td>\n",
       "      <td>2.308642</td>\n",
       "      <td>29.699118</td>\n",
       "      <td>0.523008</td>\n",
       "      <td>0.381594</td>\n",
       "      <td>32.204208</td>\n",
       "    </tr>\n",
       "    <tr>\n",
       "      <th>std</th>\n",
       "      <td>257.353842</td>\n",
       "      <td>0.486592</td>\n",
       "      <td>0.836071</td>\n",
       "      <td>14.526497</td>\n",
       "      <td>1.102743</td>\n",
       "      <td>0.806057</td>\n",
       "      <td>49.693429</td>\n",
       "    </tr>\n",
       "    <tr>\n",
       "      <th>min</th>\n",
       "      <td>1.000000</td>\n",
       "      <td>0.000000</td>\n",
       "      <td>1.000000</td>\n",
       "      <td>0.420000</td>\n",
       "      <td>0.000000</td>\n",
       "      <td>0.000000</td>\n",
       "      <td>0.000000</td>\n",
       "    </tr>\n",
       "    <tr>\n",
       "      <th>25%</th>\n",
       "      <td>223.500000</td>\n",
       "      <td>0.000000</td>\n",
       "      <td>2.000000</td>\n",
       "      <td>20.125000</td>\n",
       "      <td>0.000000</td>\n",
       "      <td>0.000000</td>\n",
       "      <td>7.910400</td>\n",
       "    </tr>\n",
       "    <tr>\n",
       "      <th>50%</th>\n",
       "      <td>446.000000</td>\n",
       "      <td>0.000000</td>\n",
       "      <td>3.000000</td>\n",
       "      <td>28.000000</td>\n",
       "      <td>0.000000</td>\n",
       "      <td>0.000000</td>\n",
       "      <td>14.454200</td>\n",
       "    </tr>\n",
       "    <tr>\n",
       "      <th>75%</th>\n",
       "      <td>668.500000</td>\n",
       "      <td>1.000000</td>\n",
       "      <td>3.000000</td>\n",
       "      <td>38.000000</td>\n",
       "      <td>1.000000</td>\n",
       "      <td>0.000000</td>\n",
       "      <td>31.000000</td>\n",
       "    </tr>\n",
       "    <tr>\n",
       "      <th>max</th>\n",
       "      <td>891.000000</td>\n",
       "      <td>1.000000</td>\n",
       "      <td>3.000000</td>\n",
       "      <td>80.000000</td>\n",
       "      <td>8.000000</td>\n",
       "      <td>6.000000</td>\n",
       "      <td>512.329200</td>\n",
       "    </tr>\n",
       "  </tbody>\n",
       "</table>\n",
       "</div>"
      ],
      "text/plain": [
       "       PassengerId    Survived      Pclass         Age       SibSp  \\\n",
       "count   891.000000  891.000000  891.000000  714.000000  891.000000   \n",
       "mean    446.000000    0.383838    2.308642   29.699118    0.523008   \n",
       "std     257.353842    0.486592    0.836071   14.526497    1.102743   \n",
       "min       1.000000    0.000000    1.000000    0.420000    0.000000   \n",
       "25%     223.500000    0.000000    2.000000   20.125000    0.000000   \n",
       "50%     446.000000    0.000000    3.000000   28.000000    0.000000   \n",
       "75%     668.500000    1.000000    3.000000   38.000000    1.000000   \n",
       "max     891.000000    1.000000    3.000000   80.000000    8.000000   \n",
       "\n",
       "            Parch        Fare  \n",
       "count  891.000000  891.000000  \n",
       "mean     0.381594   32.204208  \n",
       "std      0.806057   49.693429  \n",
       "min      0.000000    0.000000  \n",
       "25%      0.000000    7.910400  \n",
       "50%      0.000000   14.454200  \n",
       "75%      0.000000   31.000000  \n",
       "max      6.000000  512.329200  "
      ]
     },
     "execution_count": 5,
     "metadata": {},
     "output_type": "execute_result"
    }
   ],
   "source": [
    "df.describe()\n",
    "# Generating descriptive statistics for numerical columns in the DataFrame\n"
   ]
  },
  {
   "cell_type": "code",
   "execution_count": 6,
   "id": "2fb8462b-07e0-4b13-8c46-d7046a334e00",
   "metadata": {},
   "outputs": [
    {
     "data": {
      "image/png": "[encoded data removed]",
      "text/plain": [
       "<Figure size 640x480 with 1 Axes>"
      ]
     },
     "metadata": {},
     "output_type": "display_data"
    }
   ],
   "source": [
    "import seaborn as sns\n",
    "import matplotlib.pyplot as plt\n",
    "\n",
    "sns.heatmap(df.isnull(), cbar=False, yticklabels=False, cmap='viridis')\n",
    "plt.title('Missing Data Heatmap')\n",
    "plt.show()\n",
    "# Importing seaborn and matplotlib.pyplot for data visualization\n",
    "# Creating a heatmap to visualize missing values in the DataFrame\n",
    "# Disabling color bar and y-axis tick labels for cleaner visualization\n",
    "# Using the 'viridis' color map for the heatmap\n",
    "# Setting the title of the plot\n",
    "# Displaying the plot\n"
   ]
  },
  {
   "cell_type": "code",
   "execution_count": 7,
   "id": "d6017b5f-d3db-4d0c-bdc1-720daf27067d",
   "metadata": {},
   "outputs": [
    {
     "data": {
      "image/png": "[encoded data removed]",
      "text/plain": [
       "<Figure size 640x480 with 1 Axes>"
      ]
     },
     "metadata": {},
     "output_type": "display_data"
    }
   ],
   "source": [
    "sns.boxplot(x=df['Age'])\n",
    "plt.title('Age Boxplot')\n",
    "plt.show()\n",
    "# Creating a boxplot to visualize the distribution and detect outliers in the 'Age' column\n",
    "# Setting the title of the plot\n",
    "# Displaying the plot\n"
   ]
  },
  {
   "cell_type": "code",
   "execution_count": 8,
   "id": "50d4bf95-7f2b-4ea0-ac31-53cb6b1a204c",
   "metadata": {},
   "outputs": [
    {
     "name": "stdout",
     "output_type": "stream",
     "text": [
      "PassengerId      0\n",
      "Survived         0\n",
      "Pclass           0\n",
      "Name             0\n",
      "Sex              0\n",
      "Age            177\n",
      "SibSp            0\n",
      "Parch            0\n",
      "Ticket           0\n",
      "Fare             0\n",
      "Cabin          687\n",
      "Embarked         2\n",
      "dtype: int64\n"
     ]
    }
   ],
   "source": [
    "print(df.isnull().sum())\n",
    "# Printing the total number of missing values in each column of the DataFrame\n"
   ]
  },
  {
   "cell_type": "code",
   "execution_count": 12,
   "id": "e85f292c-bfde-4d5f-be11-fdfc3b3bc999",
   "metadata": {},
   "outputs": [
    {
     "data": {
      "image/png": "[encoded data removed]",
      "text/plain": [
       "<Figure size 640x480 with 1 Axes>"
      ]
     },
     "metadata": {},
     "output_type": "display_data"
    },
    {
     "data": {
      "image/png": "[encoded data removed]",
      "text/plain": [
       "<Figure size 640x480 with 1 Axes>"
      ]
     },
     "metadata": {},
     "output_type": "display_data"
    },
    {
     "data": {
      "image/png": "[encoded data removed]",
      "text/plain": [
       "<Figure size 640x480 with 1 Axes>"
      ]
     },
     "metadata": {},
     "output_type": "display_data"
    }
   ],
   "source": [
    "# Count plot of Survived (0 = No, 1 = Yes)\n",
    "sns.countplot(x='Survived', data=df)\n",
    "plt.title('Survival Counts')\n",
    "plt.show()\n",
    "\n",
    "# Survival count by Sex\n",
    "sns.countplot(x='Survived', hue='Sex', data=df)\n",
    "plt.title('Survival by Gender')\n",
    "plt.show()\n",
    "\n",
    "# Survival count by Pclass (Passenger class)\n",
    "sns.countplot(x='Survived', hue='Pclass', data=df)\n",
    "plt.title('Survival by Passenger Class')\n",
    "plt.show()\n",
    "# Creating a count plot to show the number of passengers who survived (1) vs. did not survive (0)\n",
    "# Setting the title of the plot\n",
    "# Displaying the plot\n",
    "\n",
    "# Creating a count plot to compare survival rates based on gender (Sex)\n",
    "# Setting the title of the plot\n",
    "# Displaying the plot\n",
    "\n",
    "# Creating a count plot to compare survival rates based on passenger class (Pclass)\n",
    "# Setting the title of the plot\n",
    "# Displaying the plot\n",
    "\n"
   ]
  },
  {
   "cell_type": "code",
   "execution_count": 13,
   "id": "9e6be622-68eb-45f5-96fb-a04b400421f9",
   "metadata": {},
   "outputs": [
    {
     "name": "stdout",
     "output_type": "stream",
     "text": [
      "count    714.000000\n",
      "mean      29.699118\n",
      "std       14.526497\n",
      "min        0.420000\n",
      "25%       20.125000\n",
      "50%       28.000000\n",
      "75%       38.000000\n",
      "max       80.000000\n",
      "Name: Age, dtype: float64\n",
      "Missing values in Age: 177\n"
     ]
    }
   ],
   "source": [
    "print(df['Age'].describe())\n",
    "print(f\"Missing values in Age: {df['Age'].isnull().sum()}\")\n",
    "# Printing descriptive statistics (count, mean, std, min, quartiles, max) for the 'Age' column\n",
    "# Printing the total number of missing values specifically in the 'Age' column\n",
    "\n"
   ]
  },
  {
   "cell_type": "code",
   "execution_count": 14,
   "id": "cb1d9fb1-04c8-41a6-9d00-d17733dbccbe",
   "metadata": {},
   "outputs": [
    {
     "name": "stdout",
     "output_type": "stream",
     "text": [
      "Index(['PassengerId', 'Survived', 'Pclass', 'Name', 'Sex', 'Age', 'SibSp',\n",
      "       'Parch', 'Ticket', 'Fare', 'Cabin', 'Embarked'],\n",
      "      dtype='object')\n",
      "   PassengerId  Survived  Pclass  \\\n",
      "0            1         0       3   \n",
      "1            2         1       1   \n",
      "2            3         1       3   \n",
      "3            4         1       1   \n",
      "4            5         0       3   \n",
      "\n",
      "                                                Name     Sex   Age  SibSp  \\\n",
      "0                            Braund, Mr. Owen Harris    male  22.0      1   \n",
      "1  Cumings, Mrs. John Bradley (Florence Briggs Th...  female  38.0      1   \n",
      "2                             Heikkinen, Miss. Laina  female  26.0      0   \n",
      "3       Futrelle, Mrs. Jacques Heath (Lily May Peel)  female  35.0      1   \n",
      "4                           Allen, Mr. William Henry    male  35.0      0   \n",
      "\n",
      "   Parch            Ticket     Fare Cabin Embarked  \n",
      "0      0         A/5 21171   7.2500   NaN        S  \n",
      "1      0          PC 17599  71.2833   C85        C  \n",
      "2      0  STON/O2. 3101282   7.9250   NaN        S  \n",
      "3      0            113803  53.1000  C123        S  \n",
      "4      0            373450   8.0500   NaN        S  \n",
      "float64\n",
      "177\n"
     ]
    }
   ],
   "source": [
    "print(df.columns)\n",
    "print(df.head())\n",
    "print(df['Age'].dtype)\n",
    "print(df['Age'].isnull().sum())\n",
    "# Printing the list of all column names in the DataFrame\n",
    "# Displaying the first five rows of the DataFrame\n",
    "# Printing the data type of the 'Age' column\n",
    "# Printing the number of missing values in the 'Age' column\n",
    "\n"
   ]
  },
  {
   "cell_type": "code",
   "execution_count": 15,
   "id": "e26896fc-b9d5-4d76-91b1-77ef108aa826",
   "metadata": {},
   "outputs": [
    {
     "name": "stdout",
     "output_type": "stream",
     "text": [
      "0    22.0\n",
      "1    38.0\n",
      "2    26.0\n",
      "3    35.0\n",
      "4    35.0\n",
      "Name: Age, dtype: float64\n"
     ]
    }
   ],
   "source": [
    "# Check if you can fillna on a copy of the Age column first\n",
    "age_filled = df['Age'].fillna(df['Age'].median())\n",
    "print(age_filled.head())\n",
    "\n",
    "# Then assign it back\n",
    "df['Age'] = age_filled\n",
    "# Filling missing values in the 'Age' column with the median age (performed on a copy first)\n",
    "# Displaying the first five values of the filled 'Age' column to verify the changes\n",
    "\n",
    "# Assigning the filled 'Age' column back to the original DataFrame\n"
   ]
  },
  {
   "cell_type": "code",
   "execution_count": 16,
   "id": "cfdc840d-40fd-4d18-903e-ed6e6e751608",
   "metadata": {},
   "outputs": [
    {
     "data": {
      "image/png": "[encoded data removed]",
      "text/plain": [
       "<Figure size 640x480 with 1 Axes>"
      ]
     },
     "metadata": {},
     "output_type": "display_data"
    },
    {
     "data": {
      "image/png": "[encoded data removed]",
      "text/plain": [
       "<Figure size 640x480 with 1 Axes>"
      ]
     },
     "metadata": {},
     "output_type": "display_data"
    }
   ],
   "source": [
    "import seaborn as sns\n",
    "import matplotlib.pyplot as plt\n",
    "\n",
    "# Boxplot for Age\n",
    "sns.boxplot(x=df['Age'])\n",
    "plt.title('Age Boxplot')\n",
    "plt.show()\n",
    "\n",
    "# Boxplot for Fare\n",
    "sns.boxplot(x=df['Fare'])\n",
    "plt.title('Fare Boxplot')\n",
    "plt.show()\n",
    "# Importing seaborn and matplotlib.pyplot for visualization\n",
    "\n",
    "# Creating a boxplot to visualize the distribution and detect outliers in the 'Age' column\n",
    "# Setting the title of the 'Age' boxplot\n",
    "# Displaying the plot\n",
    "\n",
    "# Creating a boxplot to visualize the distribution and detect outliers in the 'Fare' column\n",
    "# Setting the title of the 'Fare' boxplot\n",
    "# Displaying the plot\n"
   ]
  },
  {
   "cell_type": "code",
   "execution_count": 17,
   "id": "788b5429-51ac-46bf-9cd3-06f934f31f85",
   "metadata": {},
   "outputs": [
    {
     "name": "stdout",
     "output_type": "stream",
     "text": [
      "Number of Age outliers: 66\n"
     ]
    }
   ],
   "source": [
    "Q1 = df['Age'].quantile(0.25)\n",
    "Q3 = df['Age'].quantile(0.75)\n",
    "IQR = Q3 - Q1\n",
    "\n",
    "outliers_age = df[(df['Age'] < (Q1 - 1.5 * IQR)) | (df['Age'] > (Q3 + 1.5 * IQR))]\n",
    "print(f\"Number of Age outliers: {len(outliers_age)}\")\n",
    "# Calculating the first quartile (Q1) of the 'Age' column\n",
    "# Calculating the third quartile (Q3) of the 'Age' column\n",
    "# Calculating the interquartile range (IQR) as Q3 - Q1\n",
    "\n",
    "# Identifying outliers in the 'Age' column that lie below Q1 - 1.5*IQR or above Q3 + 1.5*IQR\n",
    "# Counting and printing the number of detected outliers in 'Age'\n"
   ]
  },
  {
   "cell_type": "code",
   "execution_count": 18,
   "id": "7a744337-b321-4da8-97aa-2fd2e222bb7a",
   "metadata": {},
   "outputs": [],
   "source": [
    "df = df[(df['Age'] >= (Q1 - 1.5 * IQR)) & (df['Age'] <= (Q3 + 1.5 * IQR))]\n",
    "# Removing outliers from the DataFrame by keeping only rows where 'Age' values fall within the acceptable IQR range\n"
   ]
  },
  {
   "cell_type": "code",
   "execution_count": 19,
   "id": "0a1062e6-66c7-4be0-aabf-3a151749ba6c",
   "metadata": {},
   "outputs": [
    {
     "name": "stdout",
     "output_type": "stream",
     "text": [
      "Number of Age outliers after removal: 0\n"
     ]
    }
   ],
   "source": [
    "outliers_age_after = df[(df['Age'] < (Q1 - 1.5 * IQR)) | (df['Age'] > (Q3 + 1.5 * IQR))]\n",
    "print(f\"Number of Age outliers after removal: {len(outliers_age_after)}\")\n",
    "# Checking for any remaining outliers in the 'Age' column after removal\n",
    "# Printing the count of outliers left after filtering\n"
   ]
  },
  {
   "cell_type": "code",
   "execution_count": 20,
   "id": "d993e5ca-45c3-43cf-b2e7-529ef85ac308",
   "metadata": {},
   "outputs": [
    {
     "name": "stdout",
     "output_type": "stream",
     "text": [
      "New dataset shape after outlier removal: (825, 12)\n"
     ]
    }
   ],
   "source": [
    "print(f\"New dataset shape after outlier removal: {df.shape}\")\n",
    "# Printing the new shape (rows, columns) of the DataFrame after outlier removal\n"
   ]
  },
  {
   "cell_type": "code",
   "execution_count": 21,
   "id": "cad8b120-9dfc-44ea-9bf4-6905010613c8",
   "metadata": {},
   "outputs": [
    {
     "data": {
      "image/png": "[encoded data removed]",
      "text/plain": [
       "<Figure size 640x480 with 1 Axes>"
      ]
     },
     "metadata": {},
     "output_type": "display_data"
    }
   ],
   "source": [
    "import seaborn as sns\n",
    "import matplotlib.pyplot as plt\n",
    "\n",
    "sns.boxplot(x=df['Age'])\n",
    "plt.title('Age Boxplot After Outlier Removal')\n",
    "plt.show()\n",
    "# Importing seaborn and matplotlib.pyplot for visualization\n",
    "\n",
    "# Creating a boxplot to visualize the 'Age' distribution after outlier removal\n",
    "# Setting the title of the boxplot\n",
    "# Displaying the plot\n"
   ]
  },
  {
   "cell_type": "code",
   "execution_count": 22,
   "id": "ae3c216c-502d-45c3-ae91-d664b023500e",
   "metadata": {},
   "outputs": [
    {
     "name": "stdout",
     "output_type": "stream",
     "text": [
      "Index(['PassengerId', 'Survived', 'Pclass', 'Name', 'Sex', 'Age', 'SibSp',\n",
      "       'Parch', 'Ticket', 'Fare', 'Cabin', 'Embarked'],\n",
      "      dtype='object')\n"
     ]
    }
   ],
   "source": [
    "print(df.columns)\n",
    "# Printing all column names in the DataFrame\n"
   ]
  },
  {
   "cell_type": "code",
   "execution_count": 23,
   "id": "cb72f647-0bd4-48a8-a357-cabd7fd27e96",
   "metadata": {},
   "outputs": [
    {
     "name": "stdout",
     "output_type": "stream",
     "text": [
      "Unique values in 'Sex' before encoding: ['male' 'female']\n",
      "Unique values in 'Sex' after encoding: [0 1]\n",
      "\n",
      "Unique values in 'Embarked' before encoding: ['S' 'C' 'Q' nan]\n",
      "Embarked columns after one-hot encoding: ['Embarked_Q', 'Embarked_S']\n"
     ]
    }
   ],
   "source": [
    "# Show unique values before encoding\n",
    "print(\"Unique values in 'Sex' before encoding:\", df['Sex'].unique())\n",
    "\n",
    "# Label Encoding for 'Sex' column\n",
    "df['Sex'] = df['Sex'].map({'male': 0, 'female': 1})\n",
    "\n",
    "# Show unique values after encoding\n",
    "print(\"Unique values in 'Sex' after encoding:\", df['Sex'].unique())\n",
    "\n",
    "# If 'Embarked' exists, create dummies (some datasets already have 'Embarked_Q', etc.)\n",
    "if 'Embarked' in df.columns:\n",
    "    print(\"\\nUnique values in 'Embarked' before encoding:\", df['Embarked'].unique())\n",
    "    embarked_dummies = pd.get_dummies(df['Embarked'], prefix='Embarked', drop_first=True)\n",
    "    df = pd.concat([df, embarked_dummies], axis=1)\n",
    "    df.drop('Embarked', axis=1, inplace=True)\n",
    "    print(\"Embarked columns after one-hot encoding:\", embarked_dummies.columns.tolist())\n",
    "# Printing unique values in the 'Sex' column before encoding\n",
    "\n",
    "# Encoding 'Sex' column: mapping 'male' to 0 and 'female' to 1 for numerical processing\n",
    "\n",
    "# Printing unique values in 'Sex' column after encoding to verify changes\n",
    "\n",
    "# Checking if 'Embarked' column exists for further processing\n",
    "# Printing unique values in 'Embarked' before encoding\n",
    "# Creating one-hot encoded dummy variables for 'Embarked' with prefix 'Embarked'\n",
    "# Dropping the original 'Embarked' column after encoding\n",
    "# Printing the names of the new dummy columns created for 'Embarked'\n"
   ]
  },
  {
   "cell_type": "code",
   "execution_count": 24,
   "id": "330f5675-b841-4660-a37e-63359b1b89d0",
   "metadata": {},
   "outputs": [
    {
     "name": "stdout",
     "output_type": "stream",
     "text": [
      "\n",
      "Before scaling:\n",
      "    Age     Fare\n",
      "0  22.0   7.2500\n",
      "1  38.0  71.2833\n",
      "2  26.0   7.9250\n",
      "3  35.0  53.1000\n",
      "4  35.0   8.0500\n",
      "\n",
      "After scaling:\n",
      "        Age      Fare\n",
      "0 -0.640556 -0.485389\n",
      "1  0.932531  0.797171\n",
      "2 -0.247284 -0.471869\n",
      "3  0.637577  0.432967\n",
      "4  0.637577 -0.469366\n"
     ]
    }
   ],
   "source": [
    "from sklearn.preprocessing import StandardScaler\n",
    "\n",
    "# Preview values before scaling\n",
    "print(\"\\nBefore scaling:\")\n",
    "print(df[['Age', 'Fare']].head())\n",
    "\n",
    "# Scale numerical features\n",
    "scaler = StandardScaler()\n",
    "df[['Age', 'Fare']] = scaler.fit_transform(df[['Age', 'Fare']])\n",
    "\n",
    "# Preview values after scaling\n",
    "print(\"\\nAfter scaling:\")\n",
    "print(df[['Age', 'Fare']].head())\n",
    "# Importing StandardScaler from scikit-learn for feature scaling\n",
    "\n",
    "# Displaying the first few values of 'Age' and 'Fare' columns before scaling\n",
    "\n",
    "# Initializing the StandardScaler\n",
    "# Applying standardization (mean=0, std=1) to 'Age' and 'Fare' columns\n",
    "\n",
    "# Displaying the first few values of 'Age' and 'Fare' after scaling\n"
   ]
  },
  {
   "cell_type": "code",
   "execution_count": 25,
   "id": "19abaf45-029f-492b-8dad-baa824c93f93",
   "metadata": {},
   "outputs": [
    {
     "name": "stdout",
     "output_type": "stream",
     "text": [
      "\n",
      "New feature 'FamilySize' added:\n",
      "   SibSp  Parch  FamilySize\n",
      "0      1      0           1\n",
      "1      1      0           1\n",
      "2      0      0           0\n",
      "3      1      0           1\n",
      "4      0      0           0\n"
     ]
    }
   ],
   "source": [
    "# Create FamilySize feature\n",
    "df['FamilySize'] = df['SibSp'] + df['Parch']\n",
    "\n",
    "# Show new column\n",
    "print(\"\\nNew feature 'FamilySize' added:\")\n",
    "print(df[['SibSp', 'Parch', 'FamilySize']].head())\n",
    "# Creating a new feature 'FamilySize' by adding the number of siblings/spouses ('SibSp') and parents/children ('Parch') aboard\n",
    "\n",
    "# Printing the first few rows to show the new 'FamilySize' feature alongside 'SibSp' and 'Parch'\n"
   ]
  },
  {
   "cell_type": "code",
   "execution_count": 26,
   "id": "130820ba-cdc1-459e-9526-82c92fc4c3fc",
   "metadata": {},
   "outputs": [
    {
     "name": "stdout",
     "output_type": "stream",
     "text": [
      "\n",
      " Final DataFrame columns:\n",
      "['PassengerId', 'Survived', 'Pclass', 'Name', 'Sex', 'Age', 'SibSp', 'Parch', 'Ticket', 'Fare', 'Cabin', 'Embarked_Q', 'Embarked_S', 'FamilySize']\n"
     ]
    }
   ],
   "source": [
    "print(\"\\n Final DataFrame columns:\")\n",
    "print(df.columns.tolist())\n",
    "# Printing the list of all column names in the final DataFrame after all preprocessing steps\n"
   ]
  },
  {
   "cell_type": "code",
   "execution_count": 24,
   "id": "7e35efcf-061d-40e6-8b65-76b30d628363",
   "metadata": {},
   "outputs": [
    {
     "name": "stdout",
     "output_type": "stream",
     "text": [
      "Index(['PassengerId', 'Survived', 'Pclass', 'Name', 'Sex', 'Age', 'SibSp',\n",
      "       'Parch', 'Ticket', 'Fare', 'Cabin', 'Embarked_Q', 'Embarked_S',\n",
      "       'FamilySize'],\n",
      "      dtype='object')\n"
     ]
    }
   ],
   "source": [
    "print(df.columns)\n"
   ]
  },
  {
   "cell_type": "code",
   "execution_count": 27,
   "id": "6d4a1144-1438-4ac9-bdc9-f431c95f9914",
   "metadata": {},
   "outputs": [
    {
     "name": "stdout",
     "output_type": "stream",
     "text": [
      "['PassengerId', 'Survived', 'Pclass', 'Name', 'Sex', 'Age', 'SibSp', 'Parch', 'Ticket', 'Fare', 'Cabin', 'Embarked_Q', 'Embarked_S', 'FamilySize']\n"
     ]
    }
   ],
   "source": [
    "print(df.columns.tolist())\n",
    "# Printing all column names as a list for overview of DataFrame structure\n"
   ]
  },
  {
   "cell_type": "code",
   "execution_count": 28,
   "id": "b6249841-b8e4-4970-ac10-f90491fe1c9f",
   "metadata": {},
   "outputs": [
    {
     "data": {
      "image/png": "[encoded data removed]",
      "text/plain": [
       "<Figure size 1600x400 with 3 Axes>"
      ]
     },
     "metadata": {},
     "output_type": "display_data"
    }
   ],
   "source": [
    "import pandas as pd\n",
    "import matplotlib.pyplot as plt\n",
    "import seaborn as sns\n",
    "\n",
    "# Load your DataFrame (adjust the path if needed)\n",
    "# df = pd.read_csv('titanic.csv')\n",
    "\n",
    "# Fill missing Age values\n",
    "df['Age'] = df['Age'].fillna(df['Age'].median())\n",
    "\n",
    "# Reconstruct 'Embarked' from one-hot columns\n",
    "def get_embarked(row):\n",
    "    if row['Embarked_Q'] == 1:\n",
    "        return 'Q'\n",
    "    elif row['Embarked_S'] == 1:\n",
    "        return 'S'\n",
    "    else:\n",
    "        return 'C'  # baseline\n",
    "\n",
    "df['Embarked'] = df.apply(get_embarked, axis=1)\n",
    "\n",
    "# 1. Data distributions\n",
    "plt.figure(figsize=(16,4))\n",
    "\n",
    "plt.subplot(1,3,1)\n",
    "sns.histplot(df['Age'], bins=30, kde=True)\n",
    "plt.title('Age Distribution')\n",
    "\n",
    "plt.subplot(1,3,2)\n",
    "sns.histplot(df['Fare'], bins=30, kde=True, color='orange')\n",
    "plt.title('Fare Distribution')\n",
    "\n",
    "plt.subplot(1,3,3)\n",
    "sns.countplot(x='Survived', data=df)\n",
    "plt.title('Survival Count')\n",
    "plt.xticks([0,1], ['Did Not Survive', 'Survived'])\n",
    "\n",
    "plt.tight_layout()\n",
    "plt.show()\n",
    "# Importing pandas, matplotlib.pyplot, and seaborn for data manipulation and visualization\n",
    "\n",
    "# (Optional) Loading the Titanic dataset from CSV if needed\n",
    "\n",
    "# Filling any remaining missing values in 'Age' column with the median age\n",
    "\n",
    "# Defining a function to reconstruct the original 'Embarked' categorical column from one-hot encoded columns\n",
    "# Applying the function row-wise to recreate the 'Embarked' column\n",
    "\n",
    "# Plotting data distributions in a 1x3 grid figure\n",
    "\n",
    "# Subplot 1: Histogram with KDE for 'Age' distribution\n",
    "# Setting the title for Age distribution plot\n",
    "\n",
    "# Subplot 2: Histogram with KDE for 'Fare' distribution, colored orange\n",
    "# Setting the title for Fare distribution plot\n",
    "\n",
    "# Subplot 3: Count plot of survivors vs. non-survivors\n",
    "# Setting the title for Survival count plot\n",
    "# Customizing x-axis labels for clarity\n",
    "\n",
    "# Adjusting subplot layouts to prevent overlap\n",
    "# Displaying all plots\n"
   ]
  },
  {
   "cell_type": "code",
   "execution_count": 29,
   "id": "4fbed145-7860-4013-b0c0-c2cf6acfbb7a",
   "metadata": {},
   "outputs": [
    {
     "data": {
      "image/png": "[encoded data removed]",
      "text/plain": [
       "<Figure size 800x600 with 2 Axes>"
      ]
     },
     "metadata": {},
     "output_type": "display_data"
    }
   ],
   "source": [
    "# 2. Correlation heatmap for numeric variables\n",
    "num_cols = ['Survived', 'Pclass', 'Age', 'SibSp', 'Parch', 'Fare', 'FamilySize']\n",
    "corr = df[num_cols].corr()\n",
    "\n",
    "plt.figure(figsize=(8,6))\n",
    "sns.heatmap(corr, annot=True, fmt='.2f', cmap='coolwarm')\n",
    "plt.title('Correlation Heatmap')\n",
    "plt.show()\n"
   ]
  },
  {
   "cell_type": "code",
   "execution_count": 30,
   "id": "bd63a5bd-80ca-4c9f-b252-3d06f9cba139",
   "metadata": {},
   "outputs": [
    {
     "data": {
      "image/png": "[encoded data removed]",
      "text/plain": [
       "<Figure size 1800x500 with 3 Axes>"
      ]
     },
     "metadata": {},
     "output_type": "display_data"
    }
   ],
   "source": [
    "# 3. Relationships & Patterns: Survival by Sex, Pclass, and Embarked\n",
    "fig, axes = plt.subplots(1,3, figsize=(18,5))\n",
    "\n",
    "sns.countplot(x='Sex', hue='Survived', data=df, ax=axes[0], palette='pastel')\n",
    "axes[0].set_title('Survival by Sex')\n",
    "\n",
    "sns.countplot(x='Pclass', hue='Survived', data=df, ax=axes[1], palette='pastel')\n",
    "axes[1].set_title('Survival by Passenger Class')\n",
    "\n",
    "sns.countplot(x='Embarked', hue='Survived', data=df, ax=axes[2], palette='pastel')\n",
    "axes[2].set_title('Survival by Embarked Port')\n",
    "\n",
    "for ax in axes:\n",
    "    ax.legend(title='Survived', labels=['No', 'Yes'])\n",
    "\n",
    "plt.tight_layout()\n",
    "plt.show()"
   ]
  },
  {
   "cell_type": "code",
   "execution_count": 31,
   "id": "6afeedd1-ebd2-4471-b30b-3cbd4127f13e",
   "metadata": {},
   "outputs": [],
   "source": [
    "# ----------------\n",
    "# Key Findings (summary):\n",
    "# - Younger passengers tend to have higher survival rates.\n",
    "# - Fare positively correlates with survival, indicating wealthier passengers had better chances.\n",
    "# - Females had a significantly higher survival rate than males.\n",
    "# - Passengers in 1st class (Pclass=1) survived more compared to 2nd and 3rd classes.\n",
    "# - Passengers embarking from Cherbourg (C) survived slightly more than those from Queenstown (Q) and Southampton (S).\n",
    "# - Family size shows some correlation with survival; very large families had lower survival rates.\n",
    "# - The heatmap shows negative correlation of Pclass with Fare and positive correlation between Fare and Age.\n",
    "# ----------------"
   ]
  },
  {
   "cell_type": "code",
   "execution_count": 32,
   "id": "67141f9f-ee4f-4a3a-af3e-05c21ce41093",
   "metadata": {},
   "outputs": [
    {
     "name": "stdout",
     "output_type": "stream",
     "text": [
      "Correlation with Survived:\n",
      "Survived      1.000000\n",
      "Fare          0.269672\n",
      "Parch         0.074199\n",
      "FamilySize    0.016065\n",
      "Age          -0.020926\n",
      "SibSp        -0.030860\n",
      "Pclass       -0.367774\n",
      "Name: Survived, dtype: float64\n"
     ]
    }
   ],
   "source": [
    "import pandas as pd\n",
    "from sklearn.ensemble import RandomForestClassifier\n",
    "from sklearn.preprocessing import LabelEncoder\n",
    "\n",
    "# Assume df is your cleaned DataFrame, with 'Embarked' column created\n",
    "\n",
    "# 1. Correlation analysis for numerical features\n",
    "num_cols = ['Pclass', 'Age', 'SibSp', 'Parch', 'Fare', 'FamilySize']\n",
    "print(\"Correlation with Survived:\")\n",
    "print(df[num_cols + ['Survived']].corr()['Survived'].sort_values(ascending=False))"
   ]
  },
  {
   "cell_type": "code",
   "execution_count": 33,
   "id": "3486fd13-4443-427a-bfcd-3d9ee67a3d23",
   "metadata": {},
   "outputs": [],
   "source": [
    "# 2. Prepare data for feature importance (encode categorical features)\n",
    "df_fs = df.copy()\n",
    "\n",
    "# Encode categorical columns: Sex and Embarked\n",
    "le_sex = LabelEncoder()\n",
    "df_fs['Sex_enc'] = le_sex.fit_transform(df_fs['Sex'])\n",
    "\n",
    "le_embarked = LabelEncoder()\n",
    "df_fs['Embarked_enc'] = le_embarked.fit_transform(df_fs['Embarked'])\n",
    "\n",
    "# Select features for modeling\n",
    "features = ['Pclass', 'Age', 'SibSp', 'Parch', 'Fare', 'FamilySize', 'Sex_enc', 'Embarked_enc']\n",
    "\n",
    "# Make a copy of features to avoid SettingWithCopyWarning\n",
    "X = df_fs[features].copy()\n",
    "\n",
    "# Fill missing Age values\n",
    "X['Age'] = X['Age'].fillna(X['Age'].median())\n",
    "\n",
    "y = df_fs['Survived']\n"
   ]
  },
  {
   "cell_type": "code",
   "execution_count": 34,
   "id": "a1ca8548-d1cf-4476-8518-166a729c4c0e",
   "metadata": {},
   "outputs": [
    {
     "name": "stdout",
     "output_type": "stream",
     "text": [
      "\n",
      "Feature Importances:\n",
      "Fare            0.285140\n",
      "Sex_enc         0.248504\n",
      "Age             0.229963\n",
      "Pclass          0.101158\n",
      "FamilySize      0.048488\n",
      "Embarked_enc    0.034923\n",
      "SibSp           0.027866\n",
      "Parch           0.023958\n",
      "dtype: float64\n"
     ]
    }
   ],
   "source": [
    "# 3. Random Forest Classifier for feature importance\n",
    "rf = RandomForestClassifier(random_state=42)\n",
    "rf.fit(X, y)\n",
    "\n",
    "importances = pd.Series(rf.feature_importances_, index=features).sort_values(ascending=False)\n",
    "print(\"\\nFeature Importances:\")\n",
    "print(importances)\n"
   ]
  },
  {
   "cell_type": "code",
   "execution_count": 35,
   "id": "d341bf71-fc05-4183-89bd-df2a03ab992c",
   "metadata": {},
   "outputs": [
    {
     "name": "stdout",
     "output_type": "stream",
     "text": [
      "\n",
      "Selected Features for modeling:\n",
      "['Pclass', 'Age', 'Fare', 'FamilySize', 'Sex_enc', 'Embarked_enc']\n"
     ]
    }
   ],
   "source": [
    "# 4. Dimensionality Reduction - selecting important features\n",
    "selected_features = ['Pclass', 'Age', 'Fare', 'FamilySize', 'Sex_enc', 'Embarked_enc']\n",
    "\n",
    "print(\"\\nSelected Features for modeling:\")\n",
    "print(selected_features)"
   ]
  },
  {
   "cell_type": "code",
   "execution_count": 36,
   "id": "0a294369-84f3-4e49-95a7-31ad2afe2f72",
   "metadata": {},
   "outputs": [],
   "source": [
    "from sklearn.model_selection import train_test_split\n",
    "from sklearn.linear_model import LogisticRegression\n",
    "from sklearn.metrics import accuracy_score, precision_score, recall_score, f1_score, confusion_matrix, classification_report\n",
    "\n",
    "# 1. Data Splitting\n",
    "\n",
    "# Use the selected features from previous step\n",
    "X_selected = df_fs[selected_features].copy()\n",
    "\n",
    "# Fill missing Age if any (just in case)\n",
    "X_selected['Age'] = X_selected['Age'].fillna(X_selected['Age'].median())\n",
    "\n",
    "y = df_fs['Survived']\n",
    "\n",
    "# Split into train and test sets (80% train, 20% test)\n",
    "X_train, X_test, y_train, y_test = train_test_split(\n",
    "    X_selected, y, test_size=0.2, random_state=42, stratify=y\n",
    ")\n"
   ]
  },
  {
   "cell_type": "code",
   "execution_count": 37,
   "id": "799c64b1-c3a8-4567-b612-7744c38d56aa",
   "metadata": {},
   "outputs": [],
   "source": [
    "# 2. Algorithm Selection: Logistic Regression\n",
    "model = LogisticRegression(max_iter=200)\n"
   ]
  },
  {
   "cell_type": "code",
   "execution_count": 38,
   "id": "996cbb53-0840-478c-bee4-5bb6c93d7e49",
   "metadata": {},
   "outputs": [
    {
     "data": {
      "text/html": [
       "<style>#sk-container-id-1 {\n",
       "  /* Definition of color scheme common for light and dark mode */\n",
       "  --sklearn-color-text: black;\n",
       "  --sklearn-color-line: gray;\n",
       "  /* Definition of color scheme for unfitted estimators */\n",
       "  --sklearn-color-unfitted-level-0: #fff5e6;\n",
       "  --sklearn-color-unfitted-level-1: #f6e4d2;\n",
       "  --sklearn-color-unfitted-level-2: #ffe0b3;\n",
       "  --sklearn-color-unfitted-level-3: chocolate;\n",
       "  /* Definition of color scheme for fitted estimators */\n",
       "  --sklearn-color-fitted-level-0: #f0f8ff;\n",
       "  --sklearn-color-fitted-level-1: #d4ebff;\n",
       "  --sklearn-color-fitted-level-2: #b3dbfd;\n",
       "  --sklearn-color-fitted-level-3: cornflowerblue;\n",
       "\n",
       "  /* Specific color for light theme */\n",
       "  --sklearn-color-text-on-default-background: var(--sg-text-color, var(--theme-code-foreground, var(--jp-content-font-color1, black)));\n",
       "  --sklearn-color-background: var(--sg-background-color, var(--theme-background, var(--jp-layout-color0, white)));\n",
       "  --sklearn-color-border-box: var(--sg-text-color, var(--theme-code-foreground, var(--jp-content-font-color1, black)));\n",
       "  --sklearn-color-icon: #696969;\n",
       "\n",
       "  @media (prefers-color-scheme: dark) {\n",
       "    /* Redefinition of color scheme for dark theme */\n",
       "    --sklearn-color-text-on-default-background: var(--sg-text-color, var(--theme-code-foreground, var(--jp-content-font-color1, white)));\n",
       "    --sklearn-color-background: var(--sg-background-color, var(--theme-background, var(--jp-layout-color0, #111)));\n",
       "    --sklearn-color-border-box: var(--sg-text-color, var(--theme-code-foreground, var(--jp-content-font-color1, white)));\n",
       "    --sklearn-color-icon: #878787;\n",
       "  }\n",
       "}\n",
       "\n",
       "#sk-container-id-1 {\n",
       "  color: var(--sklearn-color-text);\n",
       "}\n",
       "\n",
       "#sk-container-id-1 pre {\n",
       "  padding: 0;\n",
       "}\n",
       "\n",
       "#sk-container-id-1 input.sk-hidden--visually {\n",
       "  border: 0;\n",
       "  clip: rect(1px 1px 1px 1px);\n",
       "  clip: rect(1px, 1px, 1px, 1px);\n",
       "  height: 1px;\n",
       "  margin: -1px;\n",
       "  overflow: hidden;\n",
       "  padding: 0;\n",
       "  position: absolute;\n",
       "  width: 1px;\n",
       "}\n",
       "\n",
       "#sk-container-id-1 div.sk-dashed-wrapped {\n",
       "  border: 1px dashed var(--sklearn-color-line);\n",
       "  margin: 0 0.4em 0.5em 0.4em;\n",
       "  box-sizing: border-box;\n",
       "  padding-bottom: 0.4em;\n",
       "  background-color: var(--sklearn-color-background);\n",
       "}\n",
       "\n",
       "#sk-container-id-1 div.sk-container {\n",
       "  /* jupyter's `normalize.less` sets `[hidden] { display: none; }`\n",
       "     but bootstrap.min.css set `[hidden] { display: none !important; }`\n",
       "     so we also need the `!important` here to be able to override the\n",
       "     default hidden behavior on the sphinx rendered scikit-learn.org.\n",
       "     See: https://github.com/scikit-learn/scikit-learn/issues/21755 */\n",
       "  display: inline-block !important;\n",
       "  position: relative;\n",
       "}\n",
       "\n",
       "#sk-container-id-1 div.sk-text-repr-fallback {\n",
       "  display: none;\n",
       "}\n",
       "\n",
       "div.sk-parallel-item,\n",
       "div.sk-serial,\n",
       "div.sk-item {\n",
       "  /* draw centered vertical line to link estimators */\n",
       "  background-image: linear-gradient(var(--sklearn-color-text-on-default-background), var(--sklearn-color-text-on-default-background));\n",
       "  background-size: 2px 100%;\n",
       "  background-repeat: no-repeat;\n",
       "  background-position: center center;\n",
       "}\n",
       "\n",
       "/* Parallel-specific style estimator block */\n",
       "\n",
       "#sk-container-id-1 div.sk-parallel-item::after {\n",
       "  content: \"\";\n",
       "  width: 100%;\n",
       "  border-bottom: 2px solid var(--sklearn-color-text-on-default-background);\n",
       "  flex-grow: 1;\n",
       "}\n",
       "\n",
       "#sk-container-id-1 div.sk-parallel {\n",
       "  display: flex;\n",
       "  align-items: stretch;\n",
       "  justify-content: center;\n",
       "  background-color: var(--sklearn-color-background);\n",
       "  position: relative;\n",
       "}\n",
       "\n",
       "#sk-container-id-1 div.sk-parallel-item {\n",
       "  display: flex;\n",
       "  flex-direction: column;\n",
       "}\n",
       "\n",
       "#sk-container-id-1 div.sk-parallel-item:first-child::after {\n",
       "  align-self: flex-end;\n",
       "  width: 50%;\n",
       "}\n",
       "\n",
       "#sk-container-id-1 div.sk-parallel-item:last-child::after {\n",
       "  align-self: flex-start;\n",
       "  width: 50%;\n",
       "}\n",
       "\n",
       "#sk-container-id-1 div.sk-parallel-item:only-child::after {\n",
       "  width: 0;\n",
       "}\n",
       "\n",
       "/* Serial-specific style estimator block */\n",
       "\n",
       "#sk-container-id-1 div.sk-serial {\n",
       "  display: flex;\n",
       "  flex-direction: column;\n",
       "  align-items: center;\n",
       "  background-color: var(--sklearn-color-background);\n",
       "  padding-right: 1em;\n",
       "  padding-left: 1em;\n",
       "}\n",
       "\n",
       "\n",
       "/* Toggleable style: style used for estimator/Pipeline/ColumnTransformer box that is\n",
       "clickable and can be expanded/collapsed.\n",
       "- Pipeline and ColumnTransformer use this feature and define the default style\n",
       "- Estimators will overwrite some part of the style using the `sk-estimator` class\n",
       "*/\n",
       "\n",
       "/* Pipeline and ColumnTransformer style (default) */\n",
       "\n",
       "#sk-container-id-1 div.sk-toggleable {\n",
       "  /* Default theme specific background. It is overwritten whether we have a\n",
       "  specific estimator or a Pipeline/ColumnTransformer */\n",
       "  background-color: var(--sklearn-color-background);\n",
       "}\n",
       "\n",
       "/* Toggleable label */\n",
       "#sk-container-id-1 label.sk-toggleable__label {\n",
       "  cursor: pointer;\n",
       "  display: block;\n",
       "  width: 100%;\n",
       "  margin-bottom: 0;\n",
       "  padding: 0.5em;\n",
       "  box-sizing: border-box;\n",
       "  text-align: center;\n",
       "}\n",
       "\n",
       "#sk-container-id-1 label.sk-toggleable__label-arrow:before {\n",
       "  /* Arrow on the left of the label */\n",
       "  content: \"▸\";\n",
       "  float: left;\n",
       "  margin-right: 0.25em;\n",
       "  color: var(--sklearn-color-icon);\n",
       "}\n",
       "\n",
       "#sk-container-id-1 label.sk-toggleable__label-arrow:hover:before {\n",
       "  color: var(--sklearn-color-text);\n",
       "}\n",
       "\n",
       "/* Toggleable content - dropdown */\n",
       "\n",
       "#sk-container-id-1 div.sk-toggleable__content {\n",
       "  max-height: 0;\n",
       "  max-width: 0;\n",
       "  overflow: hidden;\n",
       "  text-align: left;\n",
       "  /* unfitted */\n",
       "  background-color: var(--sklearn-color-unfitted-level-0);\n",
       "}\n",
       "\n",
       "#sk-container-id-1 div.sk-toggleable__content.fitted {\n",
       "  /* fitted */\n",
       "  background-color: var(--sklearn-color-fitted-level-0);\n",
       "}\n",
       "\n",
       "#sk-container-id-1 div.sk-toggleable__content pre {\n",
       "  margin: 0.2em;\n",
       "  border-radius: 0.25em;\n",
       "  color: var(--sklearn-color-text);\n",
       "  /* unfitted */\n",
       "  background-color: var(--sklearn-color-unfitted-level-0);\n",
       "}\n",
       "\n",
       "#sk-container-id-1 div.sk-toggleable__content.fitted pre {\n",
       "  /* unfitted */\n",
       "  background-color: var(--sklearn-color-fitted-level-0);\n",
       "}\n",
       "\n",
       "#sk-container-id-1 input.sk-toggleable__control:checked~div.sk-toggleable__content {\n",
       "  /* Expand drop-down */\n",
       "  max-height: 200px;\n",
       "  max-width: 100%;\n",
       "  overflow: auto;\n",
       "}\n",
       "\n",
       "#sk-container-id-1 input.sk-toggleable__control:checked~label.sk-toggleable__label-arrow:before {\n",
       "  content: \"▾\";\n",
       "}\n",
       "\n",
       "/* Pipeline/ColumnTransformer-specific style */\n",
       "\n",
       "#sk-container-id-1 div.sk-label input.sk-toggleable__control:checked~label.sk-toggleable__label {\n",
       "  color: var(--sklearn-color-text);\n",
       "  background-color: var(--sklearn-color-unfitted-level-2);\n",
       "}\n",
       "\n",
       "#sk-container-id-1 div.sk-label.fitted input.sk-toggleable__control:checked~label.sk-toggleable__label {\n",
       "  background-color: var(--sklearn-color-fitted-level-2);\n",
       "}\n",
       "\n",
       "/* Estimator-specific style */\n",
       "\n",
       "/* Colorize estimator box */\n",
       "#sk-container-id-1 div.sk-estimator input.sk-toggleable__control:checked~label.sk-toggleable__label {\n",
       "  /* unfitted */\n",
       "  background-color: var(--sklearn-color-unfitted-level-2);\n",
       "}\n",
       "\n",
       "#sk-container-id-1 div.sk-estimator.fitted input.sk-toggleable__control:checked~label.sk-toggleable__label {\n",
       "  /* fitted */\n",
       "  background-color: var(--sklearn-color-fitted-level-2);\n",
       "}\n",
       "\n",
       "#sk-container-id-1 div.sk-label label.sk-toggleable__label,\n",
       "#sk-container-id-1 div.sk-label label {\n",
       "  /* The background is the default theme color */\n",
       "  color: var(--sklearn-color-text-on-default-background);\n",
       "}\n",
       "\n",
       "/* On hover, darken the color of the background */\n",
       "#sk-container-id-1 div.sk-label:hover label.sk-toggleable__label {\n",
       "  color: var(--sklearn-color-text);\n",
       "  background-color: var(--sklearn-color-unfitted-level-2);\n",
       "}\n",
       "\n",
       "/* Label box, darken color on hover, fitted */\n",
       "#sk-container-id-1 div.sk-label.fitted:hover label.sk-toggleable__label.fitted {\n",
       "  color: var(--sklearn-color-text);\n",
       "  background-color: var(--sklearn-color-fitted-level-2);\n",
       "}\n",
       "\n",
       "/* Estimator label */\n",
       "\n",
       "#sk-container-id-1 div.sk-label label {\n",
       "  font-family: monospace;\n",
       "  font-weight: bold;\n",
       "  display: inline-block;\n",
       "  line-height: 1.2em;\n",
       "}\n",
       "\n",
       "#sk-container-id-1 div.sk-label-container {\n",
       "  text-align: center;\n",
       "}\n",
       "\n",
       "/* Estimator-specific */\n",
       "#sk-container-id-1 div.sk-estimator {\n",
       "  font-family: monospace;\n",
       "  border: 1px dotted var(--sklearn-color-border-box);\n",
       "  border-radius: 0.25em;\n",
       "  box-sizing: border-box;\n",
       "  margin-bottom: 0.5em;\n",
       "  /* unfitted */\n",
       "  background-color: var(--sklearn-color-unfitted-level-0);\n",
       "}\n",
       "\n",
       "#sk-container-id-1 div.sk-estimator.fitted {\n",
       "  /* fitted */\n",
       "  background-color: var(--sklearn-color-fitted-level-0);\n",
       "}\n",
       "\n",
       "/* on hover */\n",
       "#sk-container-id-1 div.sk-estimator:hover {\n",
       "  /* unfitted */\n",
       "  background-color: var(--sklearn-color-unfitted-level-2);\n",
       "}\n",
       "\n",
       "#sk-container-id-1 div.sk-estimator.fitted:hover {\n",
       "  /* fitted */\n",
       "  background-color: var(--sklearn-color-fitted-level-2);\n",
       "}\n",
       "\n",
       "/* Specification for estimator info (e.g. \"i\" and \"?\") */\n",
       "\n",
       "/* Common style for \"i\" and \"?\" */\n",
       "\n",
       ".sk-estimator-doc-link,\n",
       "a:link.sk-estimator-doc-link,\n",
       "a:visited.sk-estimator-doc-link {\n",
       "  float: right;\n",
       "  font-size: smaller;\n",
       "  line-height: 1em;\n",
       "  font-family: monospace;\n",
       "  background-color: var(--sklearn-color-background);\n",
       "  border-radius: 1em;\n",
       "  height: 1em;\n",
       "  width: 1em;\n",
       "  text-decoration: none !important;\n",
       "  margin-left: 1ex;\n",
       "  /* unfitted */\n",
       "  border: var(--sklearn-color-unfitted-level-1) 1pt solid;\n",
       "  color: var(--sklearn-color-unfitted-level-1);\n",
       "}\n",
       "\n",
       ".sk-estimator-doc-link.fitted,\n",
       "a:link.sk-estimator-doc-link.fitted,\n",
       "a:visited.sk-estimator-doc-link.fitted {\n",
       "  /* fitted */\n",
       "  border: var(--sklearn-color-fitted-level-1) 1pt solid;\n",
       "  color: var(--sklearn-color-fitted-level-1);\n",
       "}\n",
       "\n",
       "/* On hover */\n",
       "div.sk-estimator:hover .sk-estimator-doc-link:hover,\n",
       ".sk-estimator-doc-link:hover,\n",
       "div.sk-label-container:hover .sk-estimator-doc-link:hover,\n",
       ".sk-estimator-doc-link:hover {\n",
       "  /* unfitted */\n",
       "  background-color: var(--sklearn-color-unfitted-level-3);\n",
       "  color: var(--sklearn-color-background);\n",
       "  text-decoration: none;\n",
       "}\n",
       "\n",
       "div.sk-estimator.fitted:hover .sk-estimator-doc-link.fitted:hover,\n",
       ".sk-estimator-doc-link.fitted:hover,\n",
       "div.sk-label-container:hover .sk-estimator-doc-link.fitted:hover,\n",
       ".sk-estimator-doc-link.fitted:hover {\n",
       "  /* fitted */\n",
       "  background-color: var(--sklearn-color-fitted-level-3);\n",
       "  color: var(--sklearn-color-background);\n",
       "  text-decoration: none;\n",
       "}\n",
       "\n",
       "/* Span, style for the box shown on hovering the info icon */\n",
       ".sk-estimator-doc-link span {\n",
       "  display: none;\n",
       "  z-index: 9999;\n",
       "  position: relative;\n",
       "  font-weight: normal;\n",
       "  right: .2ex;\n",
       "  padding: .5ex;\n",
       "  margin: .5ex;\n",
       "  width: min-content;\n",
       "  min-width: 20ex;\n",
       "  max-width: 50ex;\n",
       "  color: var(--sklearn-color-text);\n",
       "  box-shadow: 2pt 2pt 4pt #999;\n",
       "  /* unfitted */\n",
       "  background: var(--sklearn-color-unfitted-level-0);\n",
       "  border: .5pt solid var(--sklearn-color-unfitted-level-3);\n",
       "}\n",
       "\n",
       ".sk-estimator-doc-link.fitted span {\n",
       "  /* fitted */\n",
       "  background: var(--sklearn-color-fitted-level-0);\n",
       "  border: var(--sklearn-color-fitted-level-3);\n",
       "}\n",
       "\n",
       ".sk-estimator-doc-link:hover span {\n",
       "  display: block;\n",
       "}\n",
       "\n",
       "/* \"?\"-specific style due to the `<a>` HTML tag */\n",
       "\n",
       "#sk-container-id-1 a.estimator_doc_link {\n",
       "  float: right;\n",
       "  font-size: 1rem;\n",
       "  line-height: 1em;\n",
       "  font-family: monospace;\n",
       "  background-color: var(--sklearn-color-background);\n",
       "  border-radius: 1rem;\n",
       "  height: 1rem;\n",
       "  width: 1rem;\n",
       "  text-decoration: none;\n",
       "  /* unfitted */\n",
       "  color: var(--sklearn-color-unfitted-level-1);\n",
       "  border: var(--sklearn-color-unfitted-level-1) 1pt solid;\n",
       "}\n",
       "\n",
       "#sk-container-id-1 a.estimator_doc_link.fitted {\n",
       "  /* fitted */\n",
       "  border: var(--sklearn-color-fitted-level-1) 1pt solid;\n",
       "  color: var(--sklearn-color-fitted-level-1);\n",
       "}\n",
       "\n",
       "/* On hover */\n",
       "#sk-container-id-1 a.estimator_doc_link:hover {\n",
       "  /* unfitted */\n",
       "  background-color: var(--sklearn-color-unfitted-level-3);\n",
       "  color: var(--sklearn-color-background);\n",
       "  text-decoration: none;\n",
       "}\n",
       "\n",
       "#sk-container-id-1 a.estimator_doc_link.fitted:hover {\n",
       "  /* fitted */\n",
       "  background-color: var(--sklearn-color-fitted-level-3);\n",
       "}\n",
       "</style><div id=\"sk-container-id-1\" class=\"sk-top-container\"><div class=\"sk-text-repr-fallback\"><pre>LogisticRegression(max_iter=200)</pre><b>In a Jupyter environment, please rerun this cell to show the HTML representation or trust the notebook. <br />On GitHub, the HTML representation is unable to render, please try loading this page with nbviewer.org.</b></div><div class=\"sk-container\" hidden><div class=\"sk-item\"><div class=\"sk-estimator fitted sk-toggleable\"><input class=\"sk-toggleable__control sk-hidden--visually\" id=\"sk-estimator-id-1\" type=\"checkbox\" checked><label for=\"sk-estimator-id-1\" class=\"sk-toggleable__label fitted sk-toggleable__label-arrow fitted\">&nbsp;&nbsp;LogisticRegression<a class=\"sk-estimator-doc-link fitted\" rel=\"noreferrer\" target=\"_blank\" href=\"https://scikit-learn.org/1.5/modules/generated/sklearn.linear_model.LogisticRegression.html\">?<span>Documentation for LogisticRegression</span></a><span class=\"sk-estimator-doc-link fitted\">i<span>Fitted</span></span></label><div class=\"sk-toggleable__content fitted\"><pre>LogisticRegression(max_iter=200)</pre></div> </div></div></div></div>"
      ],
      "text/plain": [
       "LogisticRegression(max_iter=200)"
      ]
     },
     "execution_count": 38,
     "metadata": {},
     "output_type": "execute_result"
    }
   ],
   "source": [
    "# 3. Model Training\n",
    "model.fit(X_train, y_train)\n"
   ]
  },
  {
   "cell_type": "code",
   "execution_count": 39,
   "id": "f7dea63b-6553-40f0-9655-44c9230ab91f",
   "metadata": {},
   "outputs": [
    {
     "name": "stdout",
     "output_type": "stream",
     "text": [
      "Model Performance on Test Set:\n",
      "Accuracy:  0.8182\n",
      "Precision: 0.8000\n",
      "Recall:    0.6984\n",
      "F1-Score:  0.7458\n",
      "\n",
      "Classification Report:\n",
      "              precision    recall  f1-score   support\n",
      "\n",
      "           0       0.83      0.89      0.86       102\n",
      "           1       0.80      0.70      0.75        63\n",
      "\n",
      "    accuracy                           0.82       165\n",
      "   macro avg       0.81      0.80      0.80       165\n",
      "weighted avg       0.82      0.82      0.82       165\n",
      "\n",
      "\n",
      "Confusion Matrix:\n",
      "[[91 11]\n",
      " [19 44]]\n"
     ]
    }
   ],
   "source": [
    "# 4. Model Evaluation\n",
    "\n",
    "# Predict on test data\n",
    "y_pred = model.predict(X_test)\n",
    "\n",
    "# Calculate metrics\n",
    "accuracy = accuracy_score(y_test, y_pred)\n",
    "precision = precision_score(y_test, y_pred)\n",
    "recall = recall_score(y_test, y_pred)\n",
    "f1 = f1_score(y_test, y_pred)\n",
    "\n",
    "print(\"Model Performance on Test Set:\")\n",
    "print(f\"Accuracy:  {accuracy:.4f}\")\n",
    "print(f\"Precision: {precision:.4f}\")\n",
    "print(f\"Recall:    {recall:.4f}\")\n",
    "print(f\"F1-Score:  {f1:.4f}\")\n",
    "\n",
    "print(\"\\nClassification Report:\")\n",
    "print(classification_report(y_test, y_pred))\n",
    "\n",
    "print(\"\\nConfusion Matrix:\")\n",
    "print(confusion_matrix(y_test, y_pred))"
   ]
  },
  {
   "cell_type": "code",
   "execution_count": 40,
   "id": "047e567f-27ad-46ae-bd89-728c3acdb3a7",
   "metadata": {},
   "outputs": [],
   "source": [
    "# --- What we did in Model Development ---\n",
    "\n",
    "# 1. Split the dataset into training and testing sets to evaluate model performance fairly.\n",
    "#    We used 80% of data for training and 20% for testing, keeping the ratio of survived/non-survived balanced.\n",
    "\n",
    "# 2. Selected Logistic Regression as the classification algorithm because it works well for binary outcomes (survived or not).\n",
    "\n",
    "# 3. Trained the Logistic Regression model on the training data to learn patterns between features and survival.\n",
    "\n",
    "# 4. Evaluated the model on the test data (unseen during training) by predicting survival and calculating key metrics:\n",
    "#    - Accuracy: Overall correctness of predictions.\n",
    "#    - Precision: How many predicted survivors were actually survivors.\n",
    "#    - Recall: How many actual survivors were correctly identified.\n",
    "#    - F1-Score: Harmonic mean of precision and recall, balancing both.\n",
    "#    - Confusion Matrix: Breakdown of true positives, true negatives, false positives, and false negatives.\n",
    "#    - Classification Report: Summary of precision, recall, and F1-score for each class.\n",
    "\n",
    "# --- What we got as output ---\n",
    "\n",
    "# The output shows the model’s performance metrics on the test set, helping us understand how well it predicts survival.\n",
    "# High accuracy and balanced precision/recall indicate the model is effective.\n",
    "# The confusion matrix helps identify where the model is making mistakes (e.g., false negatives).\n",
    "# This evaluation helps decide if the model is ready for deployment or needs improvement/tuning.\n"
   ]
  },
  {
   "cell_type": "code",
   "execution_count": 41,
   "id": "b1a65f8a-4817-465f-921e-580dc4d3019b",
   "metadata": {},
   "outputs": [
    {
     "name": "stdout",
     "output_type": "stream",
     "text": [
      "Cross-validation accuracy scores: [0.76363636 0.79393939 0.77575758 0.81818182 0.82424242]\n",
      "Mean CV accuracy: 0.7951515151515152\n"
     ]
    }
   ],
   "source": [
    "from sklearn.model_selection import cross_val_score, GridSearchCV\n",
    "from sklearn.linear_model import LogisticRegression\n",
    "import numpy as np\n",
    "\n",
    "# Use the selected features dataset\n",
    "X_selected = df_fs[selected_features].copy()\n",
    "X_selected['Age'] = X_selected['Age'].fillna(X_selected['Age'].median())\n",
    "y = df_fs['Survived']\n",
    "\n",
    "# 1. Cross-Validation: Evaluate model performance with 5-fold CV\n",
    "model = LogisticRegression(max_iter=200)\n",
    "\n",
    "cv_scores = cross_val_score(model, X_selected, y, cv=5, scoring='accuracy')\n",
    "print(\"Cross-validation accuracy scores:\", cv_scores)\n",
    "print(\"Mean CV accuracy:\", np.mean(cv_scores))\n"
   ]
  },
  {
   "cell_type": "code",
   "execution_count": 42,
   "id": "1c6f9c3f-a7ac-4817-8ca1-96e35e4bc902",
   "metadata": {},
   "outputs": [
    {
     "name": "stdout",
     "output_type": "stream",
     "text": [
      "\n",
      "Best parameters from Grid Search: {'C': 0.1, 'solver': 'liblinear'}\n",
      "Best cross-validated accuracy: 0.8133333333333335\n"
     ]
    }
   ],
   "source": [
    "# 2. Hyperparameter Tuning: Grid Search for best regularization strength\n",
    "param_grid = {\n",
    "    'C': [0.01, 0.1, 1, 10, 100],  # regularization strength\n",
    "    'solver': ['liblinear', 'lbfgs']  # solvers suitable for small datasets\n",
    "}\n",
    "\n",
    "grid_search = GridSearchCV(LogisticRegression(max_iter=200), param_grid, cv=5, scoring='accuracy')\n",
    "grid_search.fit(X_selected, y)\n",
    "\n",
    "print(\"\\nBest parameters from Grid Search:\", grid_search.best_params_)\n",
    "print(\"Best cross-validated accuracy:\", grid_search.best_score_)"
   ]
  },
  {
   "cell_type": "code",
   "execution_count": 43,
   "id": "5fce394d-4e79-4371-a0e7-fc9b547437a3",
   "metadata": {},
   "outputs": [
    {
     "name": "stdout",
     "output_type": "stream",
     "text": [
      "Model 1: Logistic Regression\n",
      "Accuracy: 0.8182\n",
      "Classification Report:\n",
      "              precision    recall  f1-score   support\n",
      "\n",
      "           0       0.83      0.89      0.86       102\n",
      "           1       0.80      0.70      0.75        63\n",
      "\n",
      "    accuracy                           0.82       165\n",
      "   macro avg       0.81      0.80      0.80       165\n",
      "weighted avg       0.82      0.82      0.82       165\n",
      "\n",
      "--------------------------------------------------------------------------------\n",
      "Model 2: Decision Tree\n",
      "Accuracy: 0.7758\n",
      "Classification Report:\n",
      "              precision    recall  f1-score   support\n",
      "\n",
      "           0       0.81      0.83      0.82       102\n",
      "           1       0.72      0.68      0.70        63\n",
      "\n",
      "    accuracy                           0.78       165\n",
      "   macro avg       0.76      0.76      0.76       165\n",
      "weighted avg       0.77      0.78      0.77       165\n",
      "\n",
      "--------------------------------------------------------------------------------\n",
      "Model 3: Random Forest\n",
      "Accuracy: 0.7879\n",
      "Classification Report:\n",
      "              precision    recall  f1-score   support\n",
      "\n",
      "           0       0.82      0.84      0.83       102\n",
      "           1       0.73      0.70      0.72        63\n",
      "\n",
      "    accuracy                           0.79       165\n",
      "   macro avg       0.78      0.77      0.77       165\n",
      "weighted avg       0.79      0.79      0.79       165\n",
      "\n",
      "--------------------------------------------------------------------------------\n",
      "Model 4: SVM\n",
      "Accuracy: 0.8061\n",
      "Classification Report:\n",
      "              precision    recall  f1-score   support\n",
      "\n",
      "           0       0.81      0.90      0.85       102\n",
      "           1       0.80      0.65      0.72        63\n",
      "\n",
      "    accuracy                           0.81       165\n",
      "   macro avg       0.81      0.78      0.79       165\n",
      "weighted avg       0.81      0.81      0.80       165\n",
      "\n",
      "--------------------------------------------------------------------------------\n",
      "Model 5: KNN\n",
      "Accuracy: 0.8121\n",
      "Classification Report:\n",
      "              precision    recall  f1-score   support\n",
      "\n",
      "           0       0.85      0.84      0.85       102\n",
      "           1       0.75      0.76      0.76        63\n",
      "\n",
      "    accuracy                           0.81       165\n",
      "   macro avg       0.80      0.80      0.80       165\n",
      "weighted avg       0.81      0.81      0.81       165\n",
      "\n",
      "--------------------------------------------------------------------------------\n",
      "Model 6: Naive Bayes\n",
      "Accuracy: 0.8000\n",
      "Classification Report:\n",
      "              precision    recall  f1-score   support\n",
      "\n",
      "           0       0.83      0.85      0.84       102\n",
      "           1       0.75      0.71      0.73        63\n",
      "\n",
      "    accuracy                           0.80       165\n",
      "   macro avg       0.79      0.78      0.79       165\n",
      "weighted avg       0.80      0.80      0.80       165\n",
      "\n",
      "--------------------------------------------------------------------------------\n"
     ]
    }
   ],
   "source": [
    "from sklearn.linear_model import LogisticRegression\n",
    "from sklearn.tree import DecisionTreeClassifier\n",
    "from sklearn.ensemble import RandomForestClassifier\n",
    "from sklearn.svm import SVC\n",
    "from sklearn.naive_bayes import GaussianNB\n",
    "from sklearn.neighbors import KNeighborsClassifier\n",
    "from sklearn.metrics import classification_report, accuracy_score\n",
    "\n",
    "# List of models to compare\n",
    "models = [\n",
    "    (\"Model 1: Logistic Regression\", LogisticRegression(max_iter=1000)),\n",
    "    (\"Model 2: Decision Tree\", DecisionTreeClassifier()),\n",
    "    (\"Model 3: Random Forest\", RandomForestClassifier()),\n",
    "    (\"Model 4: SVM\", SVC()),\n",
    "    (\"Model 5: KNN\", KNeighborsClassifier()),\n",
    "    (\"Model 6: Naive Bayes\", GaussianNB())\n",
    "]\n",
    "\n",
    "# Training, prediction, and evaluation\n",
    "for label, model in models:\n",
    "    model.fit(X_train, y_train)\n",
    "    y_pred = model.predict(X_test)\n",
    "    acc = accuracy_score(y_test, y_pred)\n",
    "    report = classification_report(y_test, y_pred)\n",
    "\n",
    "    print(f\"{label}\")\n",
    "    print(f\"Accuracy: {acc:.4f}\")\n",
    "    print(\"Classification Report:\")\n",
    "    print(report)\n",
    "    print(\"-\" * 80)"
   ]
  },
  {
   "cell_type": "code",
   "execution_count": 44,
   "id": "106cd0f6",
   "metadata": {},
   "outputs": [
    {
     "name": "stdout",
     "output_type": "stream",
     "text": [
      "Python 3.12.7\n"
     ]
    }
   ],
   "source": [
    "!python --version\n"
   ]
  },
  {
   "cell_type": "code",
   "execution_count": 45,
   "id": "ee51a0dd-af5a-4fca-ac7a-9c47f8ed3d8b",
   "metadata": {},
   "outputs": [
    {
     "name": "stdout",
     "output_type": "stream",
     "text": [
      "Accuracy on test set: 0.8045\n",
      "\n",
      "Classification Report:\n",
      "              precision    recall  f1-score   support\n",
      "\n",
      "           0       0.81      0.89      0.85       110\n",
      "           1       0.79      0.67      0.72        69\n",
      "\n",
      "    accuracy                           0.80       179\n",
      "   macro avg       0.80      0.78      0.79       179\n",
      "weighted avg       0.80      0.80      0.80       179\n",
      "\n",
      "\n",
      "Model saved as 'titanic_model.pkl'\n"
     ]
    }
   ],
   "source": [
    "# 1. Import libraries\n",
    "import pandas as pd\n",
    "import numpy as np\n",
    "import seaborn as sns\n",
    "import matplotlib.pyplot as plt\n",
    "from sklearn.model_selection import train_test_split\n",
    "from sklearn.preprocessing import LabelEncoder, StandardScaler\n",
    "from sklearn.linear_model import LogisticRegression\n",
    "from sklearn.metrics import accuracy_score, classification_report\n",
    "import pickle\n",
    "\n",
    "# 2. Load dataset\n",
    "df = pd.read_csv('titanic.csv')\n",
    "\n",
    "# 3. Data cleaning & preprocessing\n",
    "\n",
    "# Fill missing Age values with median\n",
    "df['Age'] = df['Age'].fillna(df['Age'].median())\n",
    "\n",
    "# Encode 'Sex' column (male=0, female=1)\n",
    "df['Sex'] = df['Sex'].map({'male': 0, 'female': 1})\n",
    "\n",
    "# Handle 'Embarked' column: create dummy variables if it exists\n",
    "if 'Embarked' in df.columns:\n",
    "    embarked_dummies = pd.get_dummies(df['Embarked'], prefix='Embarked', drop_first=True)\n",
    "    df = pd.concat([df, embarked_dummies], axis=1)\n",
    "    df.drop('Embarked', axis=1, inplace=True)\n",
    "\n",
    "# Scale numerical features 'Age' and 'Fare'\n",
    "scaler = StandardScaler()\n",
    "df[['Age', 'Fare']] = scaler.fit_transform(df[['Age', 'Fare']])\n",
    "\n",
    "# Create 'FamilySize' feature\n",
    "df['FamilySize'] = df['SibSp'] + df['Parch']\n",
    "\n",
    "# 4. Select features and target\n",
    "# If you encoded Embarked, include the dummy columns here\n",
    "features = ['Pclass', 'Sex', 'Age', 'Fare', 'SibSp', 'Parch', 'FamilySize']\n",
    "\n",
    "# Add Embarked dummy columns if exist\n",
    "embarked_cols = [col for col in df.columns if 'Embarked_' in col]\n",
    "features.extend(embarked_cols)\n",
    "\n",
    "X = df[features]\n",
    "y = df['Survived']\n",
    "\n",
    "# 5. Split dataset into training and test sets\n",
    "X_train, X_test, y_train, y_test = train_test_split(\n",
    "    X, y, test_size=0.2, random_state=42, stratify=y\n",
    ")\n",
    "\n",
    "# 6. Initialize and train Logistic Regression model\n",
    "model = LogisticRegression(max_iter=1000)\n",
    "model.fit(X_train, y_train)\n",
    "\n",
    "# 7. Evaluate model on test set\n",
    "y_pred = model.predict(X_test)\n",
    "print(f\"Accuracy on test set: {accuracy_score(y_test, y_pred):.4f}\")\n",
    "print(\"\\nClassification Report:\")\n",
    "print(classification_report(y_test, y_pred))\n",
    "\n",
    "# 8. Save the trained model to a .pkl file\n",
    "with open('titanic_model.pkl', 'wb') as file:\n",
    "    pickle.dump(model, file)\n",
    "\n",
    "print(\"\\nModel saved as 'titanic_model.pkl'\")\n",
    "\n"
   ]
  }
 ],
 "metadata": {
  "kernelspec": {
   "display_name": "base",
   "language": "python",
   "name": "python3"
  },
  "language_info": {
   "codemirror_mode": {
    "name": "ipython",
    "version": 3
   },
   "file_extension": ".py",
   "mimetype": "text/x-python",
   "name": "python",
   "nbconvert_exporter": "python",
   "pygments_lexer": "ipython3",
   "version": "3.12.7"
  }
 },
 "nbformat": 4,
 "nbformat_minor": 5
}
